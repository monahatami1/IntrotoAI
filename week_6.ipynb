{
  "nbformat": 4,
  "nbformat_minor": 0,
  "metadata": {
    "colab": {
      "provenance": [],
      "authorship_tag": "ABX9TyOnkG2KDkfeuL07sFXE2yrI",
      "include_colab_link": true
    },
    "kernelspec": {
      "name": "python3",
      "display_name": "Python 3"
    },
    "language_info": {
      "name": "python"
    }
  },
  "cells": [
    {
      "cell_type": "markdown",
      "metadata": {
        "id": "view-in-github",
        "colab_type": "text"
      },
      "source": [
        "<a href=\"https://colab.research.google.com/github/monahatami1/IntrotoAI/blob/master/week_6.ipynb\" target=\"_parent\"><img src=\"https://colab.research.google.com/assets/colab-badge.svg\" alt=\"Open In Colab\"/></a>"
      ]
    },
    {
      "cell_type": "code",
      "execution_count": null,
      "metadata": {
        "id": "ruzY1eLXFC2-"
      },
      "outputs": [],
      "source": [
        "import matplotlib.pyplot as plt\n",
        "import numpy as np\n",
        "\n",
        "def draw_heart():\n",
        "    # Define the heart shape\n",
        "    t = np.linspace(0, 2*np.pi, 300)\n",
        "    x = 19 * np.sin(t)**3\n",
        "    y = 13 * np.cos(t) - 5 * np.cos(2*t) - 2 * np.cos(3*t) - np.cos(4*t)\n",
        "\n",
        "    # Plot the heart shape\n",
        "    fig, ax = plt.subplots(figsize=(6, 6))\n",
        "    ax.plot(x, y, color='red')\n",
        "\n",
        "    # Write the message inside the heart\n",
        "    message = \"Movafagh Bashid!    Data RoadMap\"\n",
        "    ax.text(0, 1, message, fontsize=13, ha='center', va='center')\n",
        "\n",
        "    # Set plot properties\n",
        "    ax.axis('off')\n",
        "    ax.set_aspect('equal')\n",
        "    plt.show()\n",
        "\n",
        "# Call the function to draw the heart and write the message\n",
        "draw_heart()"
      ]
    }
  ]
}