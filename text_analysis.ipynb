{
  "nbformat": 4,
  "nbformat_minor": 0,
  "metadata": {
    "colab": {
      "provenance": [],
      "authorship_tag": "ABX9TyPpWskFB22R+PasgpXkvCSd",
      "include_colab_link": true
    },
    "kernelspec": {
      "name": "python3",
      "display_name": "Python 3"
    },
    "language_info": {
      "name": "python"
    }
  },
  "cells": [
    {
      "cell_type": "markdown",
      "metadata": {
        "id": "view-in-github",
        "colab_type": "text"
      },
      "source": [
        "<a href=\"https://colab.research.google.com/github/monahatami1/monogram4_housing/blob/master/text_analysis.ipynb\" target=\"_parent\"><img src=\"https://colab.research.google.com/assets/colab-badge.svg\" alt=\"Open In Colab\"/></a>"
      ]
    },
    {
      "cell_type": "code",
      "execution_count": null,
      "metadata": {
        "colab": {
          "base_uri": "https://localhost:8080/"
        },
        "id": "Ovfjl-3iEDfb",
        "outputId": "5ab53e50-6eb1-45af-f2ba-f98eae029e97"
      },
      "outputs": [
        {
          "output_type": "stream",
          "name": "stdout",
          "text": [
            "Sentiment polarity: 0.5416666666666666\n",
            "Sentiment subjectivity: 0.5166666666666667\n",
            "The text is positive.\n"
          ]
        }
      ],
      "source": [
        "from textblob import TextBlob\n",
        "\n",
        "# Define a text for sentiment analysis\n",
        "text = \"I love this product! It works great and makes my life so much easier.\"\n",
        "\n",
        "# Create a TextBlob object\n",
        "blob = TextBlob(text)\n",
        "\n",
        "# Get the sentiment polarity (-1 to 1) and subjectivity (0 to 1)\n",
        "polarity = blob.sentiment.polarity\n",
        "subjectivity = blob.sentiment.subjectivity\n",
        "\n",
        "# Print the sentiment analysis results\n",
        "print(\"Sentiment polarity:\", polarity)\n",
        "print(\"Sentiment subjectivity:\", subjectivity)\n",
        "if polarity > 0:\n",
        "    print(\"The text is positive.\")\n",
        "elif polarity < 0:\n",
        "    print(\"The text is negative.\")\n",
        "else:\n",
        "    print(\"The text is neutral.\")"
      ]
    },
    {
      "cell_type": "code",
      "source": [],
      "metadata": {
        "id": "EZxXV-H_Ii1j"
      },
      "execution_count": null,
      "outputs": []
    }
  ]
}